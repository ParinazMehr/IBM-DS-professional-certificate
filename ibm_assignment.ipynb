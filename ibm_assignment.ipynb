{
 "cells": [
  {
   "cell_type": "markdown",
   "metadata": {},
   "source": [
    "# My Jupyter Notebook on IBM Watson Studio"
   ]
  },
  {
   "cell_type": "markdown",
   "metadata": {},
   "source": [
    "<b>Parinaz Mehr</b>\n",
    "<br>I am currently a software engineer at a swedish tech company."
   ]
  },
  {
   "cell_type": "markdown",
   "metadata": {},
   "source": [
    "<i>I am interested in data science because I like looking into data & analysing it, finding patterns that aren't obvious otherwise and use those data to build different models to solve problems.</i>"
   ]
  },
  {
   "cell_type": "markdown",
   "metadata": {},
   "source": [
    "### The cell below add 1 to 2"
   ]
  },
  {
   "cell_type": "code",
   "execution_count": 1,
   "metadata": {},
   "outputs": [],
   "source": [
    "result = 1+2"
   ]
  },
  {
   "cell_type": "markdown",
   "metadata": {},
   "source": [
    "A bulleted list:\n",
    "<ul>\n",
    "<li>First item</li>\n",
    "<li>Second item</li>\n",
    "<li>Third item</li>\n",
    "</ul>\n",
    "\n",
    "A numbered list:\n",
    "<ol>\n",
    "<li>First item</li>\n",
    "<li>Second item</li>\n",
    "<li>Third item</li>\n",
    "</ol>\n",
    "\n",
    "A horizontal line:\n",
    "<hr>"
   ]
  }
 ],
 "metadata": {
  "kernelspec": {
   "display_name": "Python 3.7.12 ('tink-payment-categorization')",
   "language": "python",
   "name": "python3"
  },
  "language_info": {
   "codemirror_mode": {
    "name": "ipython",
    "version": 3
   },
   "file_extension": ".py",
   "mimetype": "text/x-python",
   "name": "python",
   "nbconvert_exporter": "python",
   "pygments_lexer": "ipython3",
   "version": "3.7.12"
  },
  "orig_nbformat": 4,
  "vscode": {
   "interpreter": {
    "hash": "30861f0396bb159782cc68ceab38bacadd6978ced9c73bd476981c88b8a33528"
   }
  }
 },
 "nbformat": 4,
 "nbformat_minor": 2
}
